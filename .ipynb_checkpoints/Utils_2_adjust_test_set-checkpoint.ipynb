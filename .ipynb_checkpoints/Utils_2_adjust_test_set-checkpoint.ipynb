{
 "cells": [
  {
   "cell_type": "code",
   "execution_count": 1,
   "metadata": {},
   "outputs": [],
   "source": [
    "import cv2\n",
    "import matplotlib.pyplot as plt"
   ]
  },
  {
   "cell_type": "code",
   "execution_count": 2,
   "metadata": {},
   "outputs": [],
   "source": [
    "img = cv2.imread('./Training/1-annotation.png')\n",
    "img = cv2.cvtColor(img, cv2.COLOR_BGR2RGB)"
   ]
  },
  {
   "cell_type": "code",
   "execution_count": 7,
   "metadata": {},
   "outputs": [
    {
     "data": {
      "image/png": "[encoded data removed]",
      "text/plain": [
       "<matplotlib.figure.Figure at 0x7f16646c60b8>"
      ]
     },
     "metadata": {
      "needs_background": "light"
     },
     "output_type": "display_data"
    },
    {
     "name": "stdout",
     "output_type": "stream",
     "text": [
      "(360, 640, 3)\n",
      "[1 1 1]\n"
     ]
    }
   ],
   "source": []
  },
  {
   "cell_type": "code",
   "execution_count": 4,
   "metadata": {},
   "outputs": [
    {
     "name": "stdout",
     "output_type": "stream",
     "text": [
      "/home/lorenzo/Documenti/UNIVR/Intcatch_pixelwise_segmentation/./Test_v2/ter1_1.png  -  /home/lorenzo/Documenti/UNIVR/Intcatch_pixelwise_segmentation/./Test_v2/ter1_1-annotation.png\n",
      "\n"
     ]
    },
    {
     "ename": "error",
     "evalue": "/io/opencv/modules/imgproc/src/color.cpp:9716: error: (-215) scn == 3 || scn == 4 in function cvtColor\n",
     "output_type": "error",
     "traceback": [
      "\u001b[0;31m---------------------------------------------------------------------------\u001b[0m",
      "\u001b[0;31merror\u001b[0m                                     Traceback (most recent call last)",
      "\u001b[0;32m<ipython-input-4-556e2718b545>\u001b[0m in \u001b[0;36m<module>\u001b[0;34m()\u001b[0m\n\u001b[1;32m      5\u001b[0m \u001b[0mn_labels\u001b[0m \u001b[0;34m=\u001b[0m \u001b[0;36m3\u001b[0m \u001b[0;31m#6\u001b[0m\u001b[0;34m\u001b[0m\u001b[0m\n\u001b[1;32m      6\u001b[0m \u001b[0mdataset\u001b[0m \u001b[0;34m=\u001b[0m \u001b[0mDataset\u001b[0m\u001b[0;34m(\u001b[0m\u001b[0mpath\u001b[0m\u001b[0;34m,\u001b[0m \u001b[0mimg_w\u001b[0m\u001b[0;34m,\u001b[0m \u001b[0mimg_h\u001b[0m\u001b[0;34m,\u001b[0m \u001b[0mn_labels\u001b[0m\u001b[0;34m)\u001b[0m\u001b[0;34m\u001b[0m\u001b[0m\n\u001b[0;32m----> 7\u001b[0;31m \u001b[0mx\u001b[0m\u001b[0;34m,\u001b[0m \u001b[0my\u001b[0m \u001b[0;34m=\u001b[0m \u001b[0mdataset\u001b[0m\u001b[0;34m.\u001b[0m\u001b[0mcreateDataset\u001b[0m\u001b[0;34m(\u001b[0m\u001b[0maugmentation\u001b[0m\u001b[0;34m=\u001b[0m\u001b[0;32mFalse\u001b[0m\u001b[0;34m,\u001b[0m \u001b[0mprob1\u001b[0m\u001b[0;34m=\u001b[0m\u001b[0;32mFalse\u001b[0m\u001b[0;34m)\u001b[0m\u001b[0;34m\u001b[0m\u001b[0m\n\u001b[0m",
      "\u001b[0;32m/home/lorenzo/Documenti/UNIVR/Intcatch_pixelwise_segmentation/dataset.py\u001b[0m in \u001b[0;36mcreateDataset\u001b[0;34m(self, augmentation, prob1)\u001b[0m\n\u001b[1;32m    245\u001b[0m             \u001b[0mimage\u001b[0m \u001b[0;34m=\u001b[0m \u001b[0mself\u001b[0m\u001b[0;34m.\u001b[0m\u001b[0mload_image\u001b[0m\u001b[0;34m(\u001b[0m\u001b[0mos\u001b[0m\u001b[0;34m.\u001b[0m\u001b[0mgetcwd\u001b[0m\u001b[0;34m(\u001b[0m\u001b[0;34m)\u001b[0m \u001b[0;34m+\u001b[0m \u001b[0;34m\"/\"\u001b[0m \u001b[0;34m+\u001b[0m \u001b[0mself\u001b[0m\u001b[0;34m.\u001b[0m\u001b[0mpath\u001b[0m \u001b[0;34m+\u001b[0m \u001b[0mtxt\u001b[0m\u001b[0;34m[\u001b[0m\u001b[0mi\u001b[0m\u001b[0;34m]\u001b[0m\u001b[0;34m[\u001b[0m\u001b[0;36m0\u001b[0m\u001b[0;34m]\u001b[0m\u001b[0;34m)\u001b[0m\u001b[0;34m\u001b[0m\u001b[0m\n\u001b[1;32m    246\u001b[0m             \u001b[0mprint\u001b[0m\u001b[0;34m(\u001b[0m\u001b[0mos\u001b[0m\u001b[0;34m.\u001b[0m\u001b[0mgetcwd\u001b[0m\u001b[0;34m(\u001b[0m\u001b[0;34m)\u001b[0m \u001b[0;34m+\u001b[0m \u001b[0;34m\"/\"\u001b[0m \u001b[0;34m+\u001b[0m \u001b[0mself\u001b[0m\u001b[0;34m.\u001b[0m\u001b[0mpath\u001b[0m \u001b[0;34m+\u001b[0m \u001b[0mtxt\u001b[0m\u001b[0;34m[\u001b[0m\u001b[0mi\u001b[0m\u001b[0;34m]\u001b[0m\u001b[0;34m[\u001b[0m\u001b[0;36m1\u001b[0m\u001b[0;34m]\u001b[0m\u001b[0;34m)\u001b[0m\u001b[0;34m\u001b[0m\u001b[0m\n\u001b[0;32m--> 247\u001b[0;31m             \u001b[0mannotation\u001b[0m \u001b[0;34m=\u001b[0m \u001b[0mself\u001b[0m\u001b[0;34m.\u001b[0m\u001b[0mload_image\u001b[0m\u001b[0;34m(\u001b[0m\u001b[0mos\u001b[0m\u001b[0;34m.\u001b[0m\u001b[0mgetcwd\u001b[0m\u001b[0;34m(\u001b[0m\u001b[0;34m)\u001b[0m \u001b[0;34m+\u001b[0m \u001b[0;34m\"/\"\u001b[0m \u001b[0;34m+\u001b[0m \u001b[0mself\u001b[0m\u001b[0;34m.\u001b[0m\u001b[0mpath\u001b[0m \u001b[0;34m+\u001b[0m \u001b[0mtxt\u001b[0m\u001b[0;34m[\u001b[0m\u001b[0mi\u001b[0m\u001b[0;34m]\u001b[0m\u001b[0;34m[\u001b[0m\u001b[0;36m1\u001b[0m\u001b[0;34m]\u001b[0m\u001b[0;34m)\u001b[0m\u001b[0;34m\u001b[0m\u001b[0m\n\u001b[0m\u001b[1;32m    248\u001b[0m             \u001b[0mself\u001b[0m\u001b[0;34m.\u001b[0m\u001b[0madd_image\u001b[0m\u001b[0;34m(\u001b[0m\u001b[0mimages\u001b[0m\u001b[0;34m,\u001b[0m \u001b[0mlabels\u001b[0m\u001b[0;34m,\u001b[0m \u001b[0mimage\u001b[0m\u001b[0;34m,\u001b[0m \u001b[0mannotation\u001b[0m\u001b[0;34m,\u001b[0m \u001b[0mself\u001b[0m\u001b[0;34m.\u001b[0m\u001b[0mimg_w\u001b[0m\u001b[0;34m,\u001b[0m \u001b[0mself\u001b[0m\u001b[0;34m.\u001b[0m\u001b[0mimg_h\u001b[0m\u001b[0;34m)\u001b[0m\u001b[0;34m\u001b[0m\u001b[0m\n\u001b[1;32m    249\u001b[0m             \u001b[0;32mif\u001b[0m \u001b[0maugmentation\u001b[0m\u001b[0;34m:\u001b[0m\u001b[0;34m\u001b[0m\u001b[0m\n",
      "\u001b[0;32m/home/lorenzo/Documenti/UNIVR/Intcatch_pixelwise_segmentation/dataset.py\u001b[0m in \u001b[0;36mload_image\u001b[0;34m(self, name)\u001b[0m\n\u001b[1;32m    125\u001b[0m     \u001b[0;32mdef\u001b[0m \u001b[0mload_image\u001b[0m\u001b[0;34m(\u001b[0m\u001b[0mself\u001b[0m\u001b[0;34m,\u001b[0m \u001b[0mname\u001b[0m\u001b[0;34m)\u001b[0m\u001b[0;34m:\u001b[0m\u001b[0;34m\u001b[0m\u001b[0m\n\u001b[1;32m    126\u001b[0m         \u001b[0mbgr\u001b[0m\u001b[0;34m=\u001b[0m\u001b[0mcv2\u001b[0m\u001b[0;34m.\u001b[0m\u001b[0mimread\u001b[0m\u001b[0;34m(\u001b[0m\u001b[0mname\u001b[0m\u001b[0;34m)\u001b[0m\u001b[0;34m\u001b[0m\u001b[0m\n\u001b[0;32m--> 127\u001b[0;31m         \u001b[0mrgb\u001b[0m\u001b[0;34m=\u001b[0m\u001b[0mcv2\u001b[0m\u001b[0;34m.\u001b[0m\u001b[0mcvtColor\u001b[0m\u001b[0;34m(\u001b[0m\u001b[0mbgr\u001b[0m\u001b[0;34m,\u001b[0m \u001b[0mcv2\u001b[0m\u001b[0;34m.\u001b[0m\u001b[0mCOLOR_BGR2RGB\u001b[0m\u001b[0;34m)\u001b[0m\u001b[0;34m\u001b[0m\u001b[0m\n\u001b[0m\u001b[1;32m    128\u001b[0m         \u001b[0;32mreturn\u001b[0m \u001b[0mrgb\u001b[0m\u001b[0;34m\u001b[0m\u001b[0m\n\u001b[1;32m    129\u001b[0m \u001b[0;34m\u001b[0m\u001b[0m\n",
      "\u001b[0;31merror\u001b[0m: /io/opencv/modules/imgproc/src/color.cpp:9716: error: (-215) scn == 3 || scn == 4 in function cvtColor\n"
     ]
    }
   ],
   "source": [
    "from dataset import Dataset\n",
    "path = './Test_v2/'\n",
    "img_h = 1080\n",
    "img_w = 1920\n",
    "n_labels = 3 #6\n",
    "dataset = Dataset(path, img_w, img_h, n_labels)\n",
    "x, y = dataset.createDataset(augmentation=False, prob1=False)"
   ]
  },
  {
   "cell_type": "code",
   "execution_count": 11,
   "metadata": {},
   "outputs": [],
   "source": [
    "import glob\n",
    "path= './Test_v2/'\n",
    "images_path = sorted(glob.glob(str(path) + \"*\"))\n",
    "annotation_images_path = []\n",
    "annotation_images_name = []\n",
    "images_name = []\n",
    "for path_image in images_path:\n",
    "    index_name_start= path_image.rfind('/') +1\n",
    "    name_image= path_image[index_name_start::]\n",
    "    if name_image.find('annotation') == -1:\n",
    "        images_name.append(name_image)\n",
    "    else:\n",
    "        annotation_images_name.append(name_image)\n",
    "        annotation_images_path.append(path_image)"
   ]
  },
  {
   "cell_type": "code",
   "execution_count": 12,
   "metadata": {
    "scrolled": false
   },
   "outputs": [
    {
     "name": "stdout",
     "output_type": "stream",
     "text": [
      "ter1_1.png ter1_1-annotation.png\n",
      "ter1_10.png ter1_10-annotation.png\n",
      "ter1_100.png ter1_100-annotation.png\n",
      "ter1_101.png ter1_101-annotation.png\n",
      "ter1_102.png ter1_102-annotation.png\n",
      "ter1_103.png ter1_103-annotation.png\n",
      "ter1_104.png ter1_104-annotation.png\n",
      "ter1_105.png ter1_105-annotation.png\n",
      "ter1_106.png ter1_106-annotation.png\n",
      "ter1_107.png ter1_107-annotation.png\n",
      "ter1_108.png ter1_108-annotation.png\n",
      "ter1_109.png ter1_109-annotation.png\n",
      "ter1_11.png ter1_11-annotation.png\n",
      "ter1_110.png ter1_110-annotation.png\n",
      "ter1_111.png ter1_111-annotation.png\n",
      "ter1_112.png ter1_112-annotation.png\n",
      "ter1_113.png ter1_113-annotation.png\n",
      "ter1_114.png ter1_114-annotation.png\n",
      "ter1_115.png ter1_115-annotation.png\n",
      "ter1_116.png ter1_116-annotation.png\n",
      "ter1_117.png ter1_117-annotation.png\n",
      "ter1_118.png ter1_118-annotation.png\n",
      "ter1_119.png ter1_119-annotation.png\n",
      "ter1_12.png ter1_12-annotation.png\n",
      "ter1_120.png ter1_120-annotation.png\n",
      "ter1_121.png ter1_121-annotation.png\n",
      "ter1_122.png ter1_122-annotation.png\n",
      "ter1_123.png ter1_123-annotation.png\n",
      "ter1_124.png ter1_124-annotation.png\n",
      "ter1_125.png ter1_125-annotation.png\n",
      "ter1_126.png ter1_126-annotation.png\n",
      "ter1_127.png ter1_127-annotation.png\n",
      "ter1_128.png ter1_128-annotation.png\n",
      "ter1_129.png ter1_129-annotation.png\n",
      "ter1_13.png ter1_13-annotation.png\n",
      "ter1_130.png ter1_130-annotation.png\n",
      "ter1_131.png ter1_131-annotation.png\n",
      "ter1_132.png ter1_132-annotation.png\n",
      "ter1_133.png ter1_133-annotation.png\n",
      "ter1_134.png ter1_134-annotation.png\n",
      "ter1_135.png ter1_135-annotation.png\n",
      "ter1_136.png ter1_136-annotation.png\n",
      "ter1_137.png ter1_137-annotation.png\n",
      "ter1_138.png ter1_138-annotation.png\n",
      "ter1_139.png ter1_139-annotation.png\n",
      "ter1_14.png ter1_14-annotation.png\n",
      "ter1_140.png ter1_140-annotation.png\n",
      "ter1_141.png ter1_141-annotation.png\n",
      "ter1_142.png ter1_142-annotation.png\n",
      "ter1_143.png ter1_143-annotation.png\n",
      "ter1_144.png ter1_144-annotation.png\n",
      "ter1_145.png ter1_145-annotation.png\n",
      "ter1_146.png ter1_146-annotation.png\n",
      "ter1_147.png ter1_147-annotation.png\n",
      "ter1_148.png ter1_148-annotation.png\n",
      "ter1_149.png ter1_149-annotation.png\n",
      "ter1_15.png ter1_15-annotation.png\n",
      "ter1_150.png ter1_150-annotation.png\n",
      "ter1_16.png ter1_16-annotation.png\n",
      "ter1_17.png ter1_17-annotation.png\n",
      "ter1_18.png ter1_18-annotation.png\n",
      "ter1_19.png ter1_19-annotation.png\n",
      "ter1_2.png ter1_2-annotation.png\n",
      "ter1_20.png ter1_20-annotation.png\n",
      "ter1_21.png ter1_21-annotation.png\n",
      "ter1_22.png ter1_22-annotation.png\n",
      "ter1_23.png ter1_23-annotation.png\n",
      "ter1_24.png ter1_24-annotation.png\n",
      "ter1_25.png ter1_25-annotation.png\n",
      "ter1_26.png ter1_26-annotation.png\n",
      "ter1_27.png ter1_27-annotation.png\n",
      "ter1_28.png ter1_28-annotation.png\n",
      "ter1_29.png ter1_29-annotation.png\n",
      "ter1_3.png ter1_3-annotation.png\n",
      "ter1_30.png ter1_30-annotation.png\n",
      "ter1_31.png ter1_31-annotation.png\n",
      "ter1_32.png ter1_32-annotation.png\n",
      "ter1_33.png ter1_33-annotation.png\n",
      "ter1_34.png ter1_34-annotation.png\n",
      "ter1_35.png ter1_35-annotation.png\n",
      "ter1_36.png ter1_36-annotation.png\n",
      "ter1_37.png ter1_37-annotation.png\n",
      "ter1_38.png ter1_38-annotation.png\n",
      "ter1_39.png ter1_39-annotation.png\n",
      "ter1_4.png ter1_4-annotation.png\n",
      "ter1_40.png ter1_40-annotation.png\n",
      "ter1_41.png ter1_41-annotation.png\n",
      "ter1_42.png ter1_42-annotation.png\n",
      "ter1_43.png ter1_43-annotation.png\n",
      "ter1_44.png ter1_44-annotation.png\n",
      "ter1_45.png ter1_45-annotation.png\n",
      "ter1_46.png ter1_46-annotation.png\n",
      "ter1_47.png ter1_47-annotation.png\n",
      "ter1_48.png ter1_48-annotation.png\n",
      "ter1_49.png ter1_49-annotation.png\n",
      "ter1_5.png ter1_5-annotation.png\n",
      "ter1_50.png ter1_50-annotation.png\n",
      "ter1_51.png ter1_51-annotation.png\n",
      "ter1_52.png ter1_52-annotation.png\n",
      "ter1_53.png ter1_53-annotation.png\n",
      "ter1_54.png ter1_54-annotation.png\n",
      "ter1_55.png ter1_55-annotation.png\n",
      "ter1_56.png ter1_56-annotation.png\n",
      "ter1_57.png ter1_57-annotation.png\n",
      "ter1_58.png ter1_58-annotation.png\n",
      "ter1_59.png ter1_59-annotation.png\n",
      "ter1_6.png ter1_6-annotation.png\n",
      "ter1_60.png ter1_60-annotation.png\n",
      "ter1_61.png ter1_61-annotation.png\n",
      "ter1_62.png ter1_62-annotation.png\n",
      "ter1_63.png ter1_63-annotation.png\n",
      "ter1_64.png ter1_64-annotation.png\n",
      "ter1_65.png ter1_65-annotation.png\n",
      "ter1_66.png ter1_66-annotation.png\n",
      "ter1_67.png ter1_67-annotation.png\n",
      "ter1_68.png ter1_68-annotation.png\n",
      "ter1_69.png ter1_69-annotation.png\n",
      "ter1_7.png ter1_7-annotation.png\n",
      "ter1_70.png ter1_70-annotation.png\n",
      "ter1_71.png ter1_71-annotation.png\n",
      "ter1_72.png ter1_72-annotation.png\n",
      "ter1_73.png ter1_73-annotation.png\n",
      "ter1_74.png ter1_74-annotation.png\n",
      "ter1_75.png ter1_75-annotation.png\n",
      "ter1_76.png ter1_76-annotation.png\n",
      "ter1_77.png ter1_77-annotation.png\n",
      "ter1_78.png ter1_78-annotation.png\n",
      "ter1_79.png ter1_79-annotation.png\n",
      "ter1_8.png ter1_8-annotation.png\n",
      "ter1_80.png ter1_80-annotation.png\n",
      "ter1_81.png ter1_81-annotation.png\n",
      "ter1_82.png ter1_82-annotation.png\n",
      "ter1_83.png ter1_83-annotation.png\n",
      "ter1_84.png ter1_84-annotation.png\n",
      "ter1_85.png ter1_85-annotation.png\n",
      "ter1_86.png ter1_86-annotation.png\n",
      "ter1_87.png ter1_87-annotation.png\n",
      "ter1_88.png ter1_88-annotation.png\n",
      "ter1_89.png ter1_89-annotation.png\n",
      "ter1_9.png ter1_9-annotation.png\n",
      "ter1_90.png ter1_90-annotation.png\n",
      "ter1_91.png ter1_91-annotation.png\n",
      "ter1_92.png ter1_92-annotation.png\n",
      "ter1_93.png ter1_93-annotation.png\n",
      "ter1_94.png ter1_94-annotation.png\n",
      "ter1_95.png ter1_95-annotation.png\n",
      "ter1_96.png ter1_96-annotation.png\n",
      "ter1_97.png ter1_97-annotation.png\n",
      "ter1_98.png ter1_98-annotation.png\n",
      "ter1_99.png ter1_99-annotation.png\n",
      "ter2_1.png ter2_1-annotation.png\n",
      "ter2_10.png ter2_10-annotation.png\n",
      "ter2_11.png ter2_11-annotation.png\n",
      "ter2_12.png ter2_12-annotation.png\n",
      "ter2_13.png ter2_13-annotation.png\n",
      "ter2_14.png ter2_14-annotation.png\n",
      "ter2_15.png ter2_15-annotation.png\n",
      "ter2_16.png ter2_16-annotation.png\n",
      "ter2_17.png ter2_17-annotation.png\n",
      "ter2_18.png ter2_18-annotation.png\n",
      "ter2_19.png ter2_19-annotation.png\n",
      "ter2_2.png ter2_2-annotation.png\n",
      "ter2_20.png ter2_20-annotation.png\n",
      "ter2_21.png ter2_21-annotation.png\n",
      "ter2_22.png ter2_22-annotation.png\n",
      "ter2_23.png ter2_23-annotation.png\n",
      "ter2_24.png ter2_24-annotation.png\n",
      "ter2_25.png ter2_25-annotation.png\n",
      "ter2_26.png ter2_26-annotation.png\n",
      "ter2_27.png ter2_27-annotation.png\n",
      "ter2_28.png ter2_28-annotation.png\n",
      "ter2_29.png ter2_29-annotation.png\n",
      "ter2_3.png ter2_3-annotation.png\n",
      "ter2_30.png ter2_30-annotation.png\n",
      "ter2_4.png ter2_4-annotation.png\n",
      "ter2_5.png ter2_5-annotation.png\n",
      "ter2_6.png ter2_6-annotation.png\n",
      "ter2_7.png ter2_7-annotation.png\n",
      "ter2_8.png ter2_8-annotation.png\n",
      "ter2_9.png ter2_9-annotation.png\n"
     ]
    }
   ],
   "source": [
    "for image_name, annotation_name in zip(images_name, annotation_images_name):\n",
    "    print(image_name,annotation_name)"
   ]
  },
  {
   "cell_type": "code",
   "execution_count": 13,
   "metadata": {},
   "outputs": [
    {
     "ename": "SyntaxError",
     "evalue": "invalid syntax (<ipython-input-13-96ec591ab717>, line 12)",
     "output_type": "error",
     "traceback": [
      "\u001b[0;36m  File \u001b[0;32m\"<ipython-input-13-96ec591ab717>\"\u001b[0;36m, line \u001b[0;32m12\u001b[0m\n\u001b[0;31m    else\u001b[0m\n\u001b[0m        ^\u001b[0m\n\u001b[0;31mSyntaxError\u001b[0m\u001b[0;31m:\u001b[0m invalid syntax\n"
     ]
    }
   ],
   "source": [
    "import numpy as np\n",
    "\n",
    "images2save = []\n",
    "\n",
    "for annotation, annotation_name, image_name in zip(annotation_images_path, annotation_images_name, images_name) :\n",
    "    img = cv2.imread(annotation)\n",
    "    img = cv2.cvtColor(img, cv2.COLOR_BGR2RGB)\n",
    "    for i in range(img.shape[0]):\n",
    "        for j in range(img.shape[1]):\n",
    "            if not np.array_equal(img[i,j],[100,100,255]):\n",
    "                img[i,j] = [0,0,0]\n",
    "            else:\n",
    "                img[i,j] = [1,1,1]\n",
    "    images2save.append((image_name, annotation_name, annotation, img))"
   ]
  },
  {
   "cell_type": "code",
   "execution_count": null,
   "metadata": {},
   "outputs": [],
   "source": []
  }
 ],
 "metadata": {
  "kernelspec": {
   "display_name": "Python 3",
   "language": "python",
   "name": "python3"
  },
  "language_info": {
   "codemirror_mode": {
    "name": "ipython",
    "version": 3
   },
   "file_extension": ".py",
   "mimetype": "text/x-python",
   "name": "python",
   "nbconvert_exporter": "python",
   "pygments_lexer": "ipython3",
   "version": "3.5.2"
  }
 },
 "nbformat": 4,
 "nbformat_minor": 2
}
