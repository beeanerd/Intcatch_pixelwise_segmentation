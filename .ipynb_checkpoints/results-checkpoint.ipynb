{
 "cells": [
  {
   "cell_type": "code",
   "execution_count": 3,
   "metadata": {},
   "outputs": [
    {
     "name": "stdout",
     "output_type": "stream",
     "text": [
      "The autoreload extension is already loaded. To reload it, use:\n",
      "  %reload_ext autoreload\n"
     ]
    }
   ],
   "source": [
    "from models import Models\n",
    "from losses import *\n",
    "from Line_of_horizont_fitting import Line_of_horizont_fitting\n",
    "from Utils import Utils\n",
    "import numpy as np\n",
    "\n",
    "%load_ext autoreload\n",
    "%autoreload 2 \n",
    "\n",
    "%matplotlib inline"
   ]
  },
  {
   "cell_type": "code",
   "execution_count": 2,
   "metadata": {},
   "outputs": [],
   "source": [
    "path_models='./models_saved/Final_new_dataset/'\n",
    "img_w=160\n",
    "img_h=160\n",
    "\n",
    "model_class = Models()\n",
    "\n",
    "model1=model_class.load_model(path_models+'unet160--mediumBN_mobilenetv2--dice_coef_loss')"
   ]
  },
  {
   "cell_type": "code",
   "execution_count": 5,
   "metadata": {},
   "outputs": [
    {
     "name": "stdout",
     "output_type": "stream",
     "text": [
      "0.0\n",
      "Frame (120).png\n"
     ]
    },
    {
     "ename": "error",
     "evalue": "/io/opencv/modules/imgcodecs/src/loadsave.cpp:531: error: (-2) could not find a writer for the specified extension in function imwrite_\n",
     "output_type": "error",
     "traceback": [
      "\u001b[0;31m---------------------------------------------------------------------------\u001b[0m",
      "\u001b[0;31merror\u001b[0m                                     Traceback (most recent call last)",
      "\u001b[0;32m<ipython-input-5-6c7d3557aaed>\u001b[0m in \u001b[0;36m<module>\u001b[0;34m()\u001b[0m\n\u001b[1;32m      6\u001b[0m     \u001b[0mname\u001b[0m\u001b[0;34m=\u001b[0m \u001b[0mpath_img\u001b[0m\u001b[0;34m[\u001b[0m\u001b[0mpath_img\u001b[0m\u001b[0;34m.\u001b[0m\u001b[0mrfind\u001b[0m\u001b[0;34m(\u001b[0m\u001b[0;34m\"/\"\u001b[0m\u001b[0;34m)\u001b[0m \u001b[0;34m+\u001b[0m \u001b[0;36m1\u001b[0m\u001b[0;34m:\u001b[0m\u001b[0;34m:\u001b[0m\u001b[0;34m]\u001b[0m\u001b[0;34m\u001b[0m\u001b[0m\n\u001b[1;32m      7\u001b[0m     \u001b[0mprint\u001b[0m\u001b[0;34m(\u001b[0m\u001b[0mname\u001b[0m\u001b[0;34m)\u001b[0m\u001b[0;34m\u001b[0m\u001b[0m\n\u001b[0;32m----> 8\u001b[0;31m     \u001b[0mcv2\u001b[0m\u001b[0;34m.\u001b[0m\u001b[0mimwrite\u001b[0m\u001b[0;34m(\u001b[0m\u001b[0mpath_2_save\u001b[0m\u001b[0;34m+\u001b[0m\u001b[0mname\u001b[0m\u001b[0;34m+\u001b[0m\u001b[0;34m\"prediction\"\u001b[0m\u001b[0;34m,\u001b[0m \u001b[0mimageOUT\u001b[0m\u001b[0;34m)\u001b[0m\u001b[0;34m\u001b[0m\u001b[0m\n\u001b[0m\u001b[1;32m      9\u001b[0m     \u001b[0mcv2\u001b[0m\u001b[0;34m.\u001b[0m\u001b[0mimwrite\u001b[0m\u001b[0;34m(\u001b[0m\u001b[0mpath_2_save\u001b[0m\u001b[0;34m+\u001b[0m\u001b[0mname\u001b[0m\u001b[0;34m+\u001b[0m\u001b[0;34m\"mask_prediction\"\u001b[0m\u001b[0;34m,\u001b[0m \u001b[0mpredict\u001b[0m\u001b[0;34m)\u001b[0m\u001b[0;34m\u001b[0m\u001b[0m\n\u001b[1;32m     10\u001b[0m     \u001b[0mcv2\u001b[0m\u001b[0;34m.\u001b[0m\u001b[0mimwrite\u001b[0m\u001b[0;34m(\u001b[0m\u001b[0mpath_2_save\u001b[0m\u001b[0;34m+\u001b[0m\u001b[0mname\u001b[0m\u001b[0;34m+\u001b[0m\u001b[0;34m\"image_inpNN_or_size\"\u001b[0m\u001b[0;34m,\u001b[0m \u001b[0mimg_inp\u001b[0m\u001b[0;34m)\u001b[0m\u001b[0;34m\u001b[0m\u001b[0m\n",
      "\u001b[0;31merror\u001b[0m: /io/opencv/modules/imgcodecs/src/loadsave.cpp:531: error: (-2) could not find a writer for the specified extension in function imwrite_\n"
     ]
    }
   ],
   "source": [
    "import matplotlib.pyplot as plt\n",
    "import cv2\n",
    "path_images = \"./video_input/DS8/*\"\n",
    "path_2_save = \"./video_input/DS8_result/\"\n",
    "for path_img, imageOUT, predict, img_inp_or, pred_inp_or in Utils.test_from_folder(path_images, model1, img_w, img_h, steps=300):\n",
    "    name= path_img[path_img.rfind(\"/\") + 1::]\n",
    "    print(name)\n",
    "    cv2.imwrite(path_2_save\"prediction-\"+name, imageOUT)\n",
    "    cv2.imwrite(path_2_save+\"mask_prediction-\"+name, predict)\n",
    "    cv2.imwrite(path_2_save+\"image_inpNN_or_size-\"+name, img_inp_or)\n",
    "    cv2.imwrite(path_2_save+\"mask_prediction_or_size-\"+name, pred_inp_or)"
   ]
  },
  {
   "cell_type": "code",
   "execution_count": null,
   "metadata": {},
   "outputs": [],
   "source": [
    "filename = \"video_input/prophr3.mp4\"\n",
    "\n",
    "Utils.test_from_video(filename, model1, img_w, img_h, steps=100)"
   ]
  },
  {
   "cell_type": "code",
   "execution_count": null,
   "metadata": {
    "scrolled": true
   },
   "outputs": [],
   "source": [
    "filename = \"video_input/lakegarda-may-9-prop-8.avi\"#prophr3.mp4\"\n",
    "\n",
    "Utils.test_speed_from_video(filename, model1, img_w, img_h, steps=100)"
   ]
  },
  {
   "cell_type": "code",
   "execution_count": null,
   "metadata": {},
   "outputs": [],
   "source": [
    "from dataset import Dataset\n",
    "path = 'Test/'\n",
    "img_w = 1280\n",
    "img_h = 720\n",
    "n_labels = 2 #6\n",
    "dataset = Dataset(path, img_w, img_h, n_labels)\n",
    "x, y = dataset.createDataset(augmentation=False, prob1=False)"
   ]
  },
  {
   "cell_type": "code",
   "execution_count": null,
   "metadata": {
    "scrolled": false
   },
   "outputs": [],
   "source": [
    "model_class = Models()\n",
    "path_models='./models_saved/final_models/'\n",
    "model_path_name= ['unet160--mediumBN_mobilenetv2--dice_coef_loss']\n",
    "\n",
    "for models_name in model_path_name:\n",
    "    model1=model_class.load_model(path_models+models_name)\n",
    "    recall_list, precision_list, specificity_list, accuracy_list, f1score_list = Utils.accuracy_on_images(x, y, model1, 160, 160, 1, False)\n",
    "    print('*' * 30)\n",
    "    print(models_name)\n",
    "    print('N PARAMETERS =', model1.count_params())\n",
    "    print(\"RECALL =\", sum(recall_list) / float(len(recall_list)))\n",
    "    print(\"PRECISION =\", sum(precision_list) / float(len(precision_list)))\n",
    "    print(\"SPECIFICITY =\", sum(specificity_list) / float(len(specificity_list)))\n",
    "    print(\"ACCURACY =\", sum(accuracy_list) / float(len(accuracy_list)))\n",
    "    print(\"F1SCORE =\", sum(f1score_list) / float(len(f1score_list)))\n",
    "    print('*' * 30)"
   ]
  },
  {
   "cell_type": "code",
   "execution_count": null,
   "metadata": {},
   "outputs": [],
   "source": [
    "model_class = Models()\n",
    "path_models='./models_saved/final_models/'\n",
    "model_path_name= ['unet160--small--dice_coef_loss',\n",
    "                  'unet160--smallBN--dice_coef_loss',\n",
    "                  'unet160--medium--dice_coef_loss',\n",
    "                  'unet160--mediumBN--dice_coef_loss']\n",
    "\n",
    "for models_name in model_path_name:\n",
    "    model1=model_class.load_model(path_models+models_name)\n",
    "    recall_list, precision_list, specificity_list, accuracy_list, f1score_list = Utils.accuracy_on_line_of_horizont_area(x, y, model1, 160, 160, 1, False)\n",
    "    print('*' * 30)\n",
    "    print(models_name)\n",
    "    print('N PARAMETERS =', model1.count_params())\n",
    "    print(\"RECALL =\", sum(recall_list) / float(len(recall_list)))\n",
    "    print(\"PRECISION =\", sum(precision_list) / float(len(precision_list)))\n",
    "    print(\"SPECIFICITY =\", sum(specificity_list) / float(len(specificity_list)))\n",
    "    print(\"ACCURACY =\", sum(accuracy_list) / float(len(accuracy_list)))\n",
    "    print(\"F1SCORE =\", sum(f1score_list) / float(len(f1score_list)))\n",
    "    print('*' * 30)\n"
   ]
  },
  {
   "cell_type": "code",
   "execution_count": null,
   "metadata": {},
   "outputs": [],
   "source": [
    "model_class = Models()\n",
    "path_models='./models_saved/final_models/'\n",
    "model_path_name= ['unet160--small--dice_coef_loss',\n",
    "                  'unet160--smallBN--dice_coef_loss',\n",
    "                  'unet160--medium--dice_coef_loss',\n",
    "                  'unet160--mediumBN--dice_coef_loss']\n",
    "\n",
    "for models_name in model_path_name:\n",
    "    model1=model_class.load_model(path_models+models_name)\n",
    "    avg_distance, max_distance = Utils.median_accuracy_line_of_horizont(x, y, model1, 160, 160, 1, False)\n",
    "    print('*' * 30)\n",
    "    print(\"-- \", models_name, \" --\")\n",
    "    print(\"Mean Max error :\", np.mean(max_distance))\n",
    "    print(\"Median Max error :\", np.median(max_distance))\n",
    "    print(\"Average error :\", np.mean(avg_distance))\n",
    "    print(\"Max error :\", np.max(max_distance))\n",
    "    print('*' * 30)"
   ]
  },
  {
   "cell_type": "code",
   "execution_count": null,
   "metadata": {},
   "outputs": [],
   "source": [
    "!cd models_saved/history/"
   ]
  },
  {
   "cell_type": "code",
   "execution_count": null,
   "metadata": {},
   "outputs": [],
   "source": [
    "import pickle\n",
    "import os\n",
    "import matplotlib.pyplot as plt\n",
    "history_path=['models_saved/history/unet160--history--largeBN--binary_crossentropy',\n",
    "              'models_saved/history/unet160--history--largeBN--mae', \n",
    "              'models_saved/history/unet160--history--largeBN--mse',\n",
    "              'models_saved/history/unet160--history--largeBN--dice_coef_loss', ]\n",
    "\n",
    "historyes = []\n",
    "for path in history_path:\n",
    "    with (open(path+\"\", \"rb\")) as openfile:\n",
    "        while True:\n",
    "            try:\n",
    "                historyes.append(pickle.load(openfile))\n",
    "            except EOFError:\n",
    "                break"
   ]
  },
  {
   "cell_type": "code",
   "execution_count": null,
   "metadata": {},
   "outputs": [],
   "source": [
    "# list all data in history\n",
    "print(historyes[0].keys())\n",
    "# summarize history for loss\n",
    "for history in historyes:\n",
    "    plt.plot(history['val_dice_coef'])\n",
    "plt.title('model accuracy')\n",
    "plt.ylabel('Dice/F1 metric')\n",
    "plt.xlabel('epoch')\n",
    "plt.legend(['binary_crossentropy_loss',\n",
    "            'mean_absolute_error_loss',\n",
    "            'mean_squared_error_loss',\n",
    "            'dice_coef_loss'], loc='lower right')\n",
    "plt.axis([0,200,0.9,1])\n",
    "plt.show()"
   ]
  }
 ],
 "metadata": {
  "kernelspec": {
   "display_name": "Python 3",
   "language": "python",
   "name": "python3"
  },
  "language_info": {
   "codemirror_mode": {
    "name": "ipython",
    "version": 3
   },
   "file_extension": ".py",
   "mimetype": "text/x-python",
   "name": "python",
   "nbconvert_exporter": "python",
   "pygments_lexer": "ipython3",
   "version": "3.5.2"
  }
 },
 "nbformat": 4,
 "nbformat_minor": 2
}
