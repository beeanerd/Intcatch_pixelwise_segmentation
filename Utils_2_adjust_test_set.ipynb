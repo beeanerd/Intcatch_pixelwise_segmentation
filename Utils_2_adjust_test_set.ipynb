{
 "cells": [
  {
   "cell_type": "code",
   "execution_count": 4,
   "metadata": {},
   "outputs": [],
   "source": [
    "import cv2\n",
    "import matplotlib.pyplot as plt"
   ]
  },
  {
   "cell_type": "code",
   "execution_count": null,
   "metadata": {},
   "outputs": [],
   "source": [
    "img = cv2.imread('./Training/1-annotation.png')\n",
    "img = cv2.cvtColor(img, cv2.COLOR_BGR2RGB)"
   ]
  },
  {
   "cell_type": "code",
   "execution_count": null,
   "metadata": {},
   "outputs": [],
   "source": []
  },
  {
   "cell_type": "code",
   "execution_count": null,
   "metadata": {},
   "outputs": [],
   "source": [
    "from dataset import Dataset\n",
    "path = './Test_v2/'\n",
    "img_h = 1080\n",
    "img_w = 1920\n",
    "n_labels = 3 #6\n",
    "dataset = Dataset(path, img_w, img_h, n_labels)\n",
    "x, y = dataset.createDataset(augmentation=False, prob1=False)"
   ]
  },
  {
   "cell_type": "code",
   "execution_count": 14,
   "metadata": {},
   "outputs": [],
   "source": [
    "import glob\n",
    "path= './Validation_v2/'\n",
    "images_path = sorted(glob.glob(str(path) + \"*\"))\n",
    "annotation_images_path = []\n",
    "annotation_images_name = []\n",
    "images_name = []\n",
    "for path_image in images_path:\n",
    "    index_name_start= path_image.rfind('/') +1\n",
    "    name_image= path_image[index_name_start::]\n",
    "    if name_image.find('annotation') == -1:\n",
    "        images_name.append(name_image)\n",
    "    else:\n",
    "        annotation_images_name.append(name_image)\n",
    "        annotation_images_path.append(path_image)"
   ]
  },
  {
   "cell_type": "code",
   "execution_count": 15,
   "metadata": {
    "scrolled": false
   },
   "outputs": [
    {
     "name": "stdout",
     "output_type": "stream",
     "text": [
      "ter1_103.png ter1_103-annotation.png\n",
      "ter1_108.png ter1_108-annotation.png\n",
      "ter1_113.png ter1_113-annotation.png\n",
      "ter1_118.png ter1_118-annotation.png\n",
      "ter1_123.png ter1_123-annotation.png\n",
      "ter1_128.png ter1_128-annotation.png\n",
      "ter1_13.png ter1_13-annotation.png\n",
      "ter1_133.png ter1_133-annotation.png\n",
      "ter1_138.png ter1_138-annotation.png\n",
      "ter1_143.png ter1_143-annotation.png\n",
      "ter1_148.png ter1_148-annotation.png\n",
      "ter1_18.png ter1_18-annotation.png\n",
      "ter1_23.png ter1_23-annotation.png\n",
      "ter1_28.png ter1_28-annotation.png\n",
      "ter1_3.png ter1_3-annotation.png\n",
      "ter1_33.png ter1_33-annotation.png\n",
      "ter1_38.png ter1_38-annotation.png\n",
      "ter1_43.png ter1_43-annotation.png\n",
      "ter1_48.png ter1_48-annotation.png\n",
      "ter1_53.png ter1_53-annotation.png\n",
      "ter1_58.png ter1_58-annotation.png\n",
      "ter1_63.png ter1_63-annotation.png\n",
      "ter1_68.png ter1_68-annotation.png\n",
      "ter1_73.png ter1_73-annotation.png\n",
      "ter1_78.png ter1_78-annotation.png\n",
      "ter1_8.png ter1_8-annotation.png\n",
      "ter1_83.png ter1_83-annotation.png\n",
      "ter1_88.png ter1_88-annotation.png\n",
      "ter1_93.png ter1_93-annotation.png\n",
      "ter1_98.png ter1_98-annotation.png\n",
      "ter2_13.png ter2_13-annotation.png\n",
      "ter2_18.png ter2_18-annotation.png\n",
      "ter2_23.png ter2_23-annotation.png\n",
      "ter2_28.png ter2_28-annotation.png\n",
      "ter2_3.png ter2_3-annotation.png\n",
      "ter2_8.png ter2_8-annotation.png\n"
     ]
    }
   ],
   "source": [
    "for image_name, annotation_name in zip(images_name, annotation_images_name):\n",
    "    print(image_name,annotation_name)"
   ]
  },
  {
   "cell_type": "code",
   "execution_count": 9,
   "metadata": {},
   "outputs": [],
   "source": [
    "import numpy as np\n",
    "\n",
    "images2save = []\n",
    "\n",
    "for annotation, annotation_name, image_name in zip(annotation_images_path, annotation_images_name, images_name) :\n",
    "    img = cv2.imread(annotation)\n",
    "    img = cv2.cvtColor(img, cv2.COLOR_BGR2RGB)\n",
    "    for i in range(img.shape[0]):\n",
    "        for j in range(img.shape[1]):\n",
    "            if not np.array_equal(img[i,j],[100,100,255]):\n",
    "                img[i,j] = [0,0,0]\n",
    "            else:\n",
    "                img[i,j] = [1,1,1]\n",
    "    #images2save.append((image_name, annotation_name, annotation, img))\n",
    "    #print(image_name)\n",
    "    cv2.imwrite('./Training_v2/' + annotation_name, img)"
   ]
  },
  {
   "cell_type": "code",
   "execution_count": null,
   "metadata": {},
   "outputs": [],
   "source": [
    "for image_name, annotation_name, annotation_path, img in images2save:\n",
    "    plt.imshow(img[:,:,0])\n",
    "    plt.show"
   ]
  },
  {
   "cell_type": "code",
   "execution_count": null,
   "metadata": {},
   "outputs": [],
   "source": []
  }
 ],
 "metadata": {
  "kernelspec": {
   "display_name": "Python 3",
   "language": "python",
   "name": "python3"
  },
  "language_info": {
   "codemirror_mode": {
    "name": "ipython",
    "version": 3
   },
   "file_extension": ".py",
   "mimetype": "text/x-python",
   "name": "python",
   "nbconvert_exporter": "python",
   "pygments_lexer": "ipython3",
   "version": "3.5.2"
  }
 },
 "nbformat": 4,
 "nbformat_minor": 2
}
