{
 "cells": [
  {
   "cell_type": "code",
   "execution_count": 2,
   "metadata": {},
   "outputs": [
    {
     "name": "stderr",
     "output_type": "stream",
     "text": [
      "Using TensorFlow backend.\n"
     ]
    }
   ],
   "source": [
    "from models import Models\n",
    "from losses import *\n",
    "from Line_of_horizont_fitting import Line_of_horizont_fitting\n",
    "from Utils import Utils\n",
    "import numpy as np\n",
    "\n",
    "from keras.backend.tensorflow_backend import set_session\n",
    "from keras import backend as K\n",
    "import tensorflow as tf\n",
    "tf.logging.set_verbosity(tf.logging.ERROR)\n",
    "config = tf.ConfigProto()\n",
    "config.gpu_options.allow_growth = True  # dynamically grow the memory used on the GPU\n",
    "config.log_device_placement = False  # to log device placement (on which device the operation ran)\n",
    "sess = tf.Session(config=config)\n",
    "set_session(sess)  # set this TensorFlow session as the default session for Keras\n",
    "\n",
    "%load_ext autoreload\n",
    "%autoreload 2 \n",
    "\n",
    "%matplotlib inline"
   ]
  },
  {
   "cell_type": "code",
   "execution_count": 3,
   "metadata": {},
   "outputs": [
    {
     "data": {
      "text/plain": [
       "[name: \"/device:CPU:0\"\n",
       " device_type: \"CPU\"\n",
       " memory_limit: 268435456\n",
       " locality {\n",
       " }\n",
       " incarnation: 2689006468109248608, name: \"/device:XLA_GPU:0\"\n",
       " device_type: \"XLA_GPU\"\n",
       " memory_limit: 17179869184\n",
       " locality {\n",
       " }\n",
       " incarnation: 18373875788124561822\n",
       " physical_device_desc: \"device: XLA_GPU device\", name: \"/device:XLA_CPU:0\"\n",
       " device_type: \"XLA_CPU\"\n",
       " memory_limit: 17179869184\n",
       " locality {\n",
       " }\n",
       " incarnation: 14978053247140974651\n",
       " physical_device_desc: \"device: XLA_CPU device\", name: \"/device:GPU:0\"\n",
       " device_type: \"GPU\"\n",
       " memory_limit: 1274150912\n",
       " locality {\n",
       "   bus_id: 1\n",
       "   links {\n",
       "   }\n",
       " }\n",
       " incarnation: 17022756570416100427\n",
       " physical_device_desc: \"device: 0, name: GeForce GTX 960M, pci bus id: 0000:01:00.0, compute capability: 5.0\"]"
      ]
     },
     "execution_count": 3,
     "metadata": {},
     "output_type": "execute_result"
    }
   ],
   "source": [
    "from tensorflow.python.client import device_lib\n",
    "\n",
    "device_lib.list_local_devices()"
   ]
  },
  {
   "cell_type": "code",
   "execution_count": null,
   "metadata": {},
   "outputs": [],
   "source": [
    "path_models='./models_saved/Final_2/'\n",
    "img_w=160\n",
    "img_h=160\n",
    "\n",
    "model_class = Models()\n",
    "\n",
    "model1=model_class.load_model(path_models+'unet160--mediumBN_mobilenetv1--dice_coef_loss')"
   ]
  },
  {
   "cell_type": "code",
   "execution_count": null,
   "metadata": {},
   "outputs": [],
   "source": [
    "import matplotlib.pyplot as plt\n",
    "import cv2\n",
    "path_images = \"./video_input/Test2/*\"\n",
    "path_2_save = \"./video_input/Test2_result/\"\n",
    "for path_img, imageOUT, predict, img_inp_or, pred_inp_or in Utils.test_from_folder(path_images, model1, img_w, img_h, steps=300):\n",
    "    name= path_img[path_img.rfind(\"/\") + 1::]\n",
    "    print(name)\n",
    "    cv2.imwrite(path_2_save+\"prediction-\"+name, cv2.cvtColor(imageOUT, cv2.COLOR_RGB2BGR))\n",
    "    cv2.imwrite(path_2_save+\"mask_prediction-\"+name, cv2.cvtColor(predict, cv2.COLOR_RGB2BGR))\n",
    "    cv2.imwrite(path_2_save+\"image_inpNN_or_size-\"+name, cv2.cvtColor(img_inp_or, cv2.COLOR_RGB2BGR))\n",
    "    cv2.imwrite(path_2_save+\"mask_prediction_or_size-\"+name, cv2.cvtColor(pred_inp_or, cv2.COLOR_RGB2BGR))"
   ]
  },
  {
   "cell_type": "code",
   "execution_count": null,
   "metadata": {},
   "outputs": [],
   "source": [
    "filename = \"video_input/prophr3.mp4\"\n",
    "\n",
    "Utils.test_from_video(filename, model1, img_w, img_h, 100)"
   ]
  },
  {
   "cell_type": "code",
   "execution_count": null,
   "metadata": {
    "scrolled": true
   },
   "outputs": [],
   "source": [
    "filename = \"video_input/lakegarda-may-9-prop-8.avi\"#prophr3.mp4\"\n",
    "\n",
    "Utils.test_speed_from_video(filename, model1, img_w, img_h, 100)"
   ]
  },
  {
   "cell_type": "code",
   "execution_count": null,
   "metadata": {
    "scrolled": true
   },
   "outputs": [
    {
     "name": "stdout",
     "output_type": "stream",
     "text": [
      "/home/lorenzo/Documenti/UNIVR/Intcatch_pixelwise_segmentation/Test/4366.0.png  -  /home/lorenzo/Documenti/UNIVR/Intcatch_pixelwise_segmentation/Test/4366.0-annotation.png\n",
      "/home/lorenzo/Documenti/UNIVR/Intcatch_pixelwise_segmentation/Test/2065.0.png  -  /home/lorenzo/Documenti/UNIVR/Intcatch_pixelwise_segmentation/Test/2065.0-annotation.png\n",
      "/home/lorenzo/Documenti/UNIVR/Intcatch_pixelwise_segmentation/Test/4720.0.png  -  /home/lorenzo/Documenti/UNIVR/Intcatch_pixelwise_segmentation/Test/4720.0-annotation.png\n",
      "/home/lorenzo/Documenti/UNIVR/Intcatch_pixelwise_segmentation/Test/5074.0.png  -  /home/lorenzo/Documenti/UNIVR/Intcatch_pixelwise_segmentation/Test/5074.0-annotation.png\n",
      "/home/lorenzo/Documenti/UNIVR/Intcatch_pixelwise_segmentation/Test/4425.0.png  -  /home/lorenzo/Documenti/UNIVR/Intcatch_pixelwise_segmentation/Test/4425.0-annotation.png\n",
      "/home/lorenzo/Documenti/UNIVR/Intcatch_pixelwise_segmentation/Test/4956.0.png  -  /home/lorenzo/Documenti/UNIVR/Intcatch_pixelwise_segmentation/Test/4956.0-annotation.png\n",
      "/home/lorenzo/Documenti/UNIVR/Intcatch_pixelwise_segmentation/Test/177.0.png  -  /home/lorenzo/Documenti/UNIVR/Intcatch_pixelwise_segmentation/Test/177.0-annotation.png\n",
      "/home/lorenzo/Documenti/UNIVR/Intcatch_pixelwise_segmentation/Test/708.0.png  -  /home/lorenzo/Documenti/UNIVR/Intcatch_pixelwise_segmentation/Test/708.0-annotation.png\n",
      "/home/lorenzo/Documenti/UNIVR/Intcatch_pixelwise_segmentation/Test/2655.0.png  -  /home/lorenzo/Documenti/UNIVR/Intcatch_pixelwise_segmentation/Test/2655.0-annotation.png\n",
      "/home/lorenzo/Documenti/UNIVR/Intcatch_pixelwise_segmentation/Test/2478.0.png  -  /home/lorenzo/Documenti/UNIVR/Intcatch_pixelwise_segmentation/Test/2478.0-annotation.png\n",
      "/home/lorenzo/Documenti/UNIVR/Intcatch_pixelwise_segmentation/Test/413.0.png  -  /home/lorenzo/Documenti/UNIVR/Intcatch_pixelwise_segmentation/Test/413.0-annotation.png\n",
      "/home/lorenzo/Documenti/UNIVR/Intcatch_pixelwise_segmentation/Test/4543.0.png  -  /home/lorenzo/Documenti/UNIVR/Intcatch_pixelwise_segmentation/Test/4543.0-annotation.png\n",
      "/home/lorenzo/Documenti/UNIVR/Intcatch_pixelwise_segmentation/Test/4189.0.png  -  /home/lorenzo/Documenti/UNIVR/Intcatch_pixelwise_segmentation/Test/4189.0-annotation.png\n",
      "/home/lorenzo/Documenti/UNIVR/Intcatch_pixelwise_segmentation/Test/1180.0.png  -  /home/lorenzo/Documenti/UNIVR/Intcatch_pixelwise_segmentation/Test/1180.0-annotation.png\n",
      "/home/lorenzo/Documenti/UNIVR/Intcatch_pixelwise_segmentation/Test/3363.0.png  -  /home/lorenzo/Documenti/UNIVR/Intcatch_pixelwise_segmentation/Test/3363.0-annotation.png\n",
      "/home/lorenzo/Documenti/UNIVR/Intcatch_pixelwise_segmentation/Test/1711.0.png  -  /home/lorenzo/Documenti/UNIVR/Intcatch_pixelwise_segmentation/Test/1711.0-annotation.png\n",
      "/home/lorenzo/Documenti/UNIVR/Intcatch_pixelwise_segmentation/Test/2301.0.png  -  /home/lorenzo/Documenti/UNIVR/Intcatch_pixelwise_segmentation/Test/2301.0-annotation.png\n",
      "/home/lorenzo/Documenti/UNIVR/Intcatch_pixelwise_segmentation/Test/590.0.png  -  /home/lorenzo/Documenti/UNIVR/Intcatch_pixelwise_segmentation/Test/590.0-annotation.png\n",
      "/home/lorenzo/Documenti/UNIVR/Intcatch_pixelwise_segmentation/Test/1475.0.png  -  /home/lorenzo/Documenti/UNIVR/Intcatch_pixelwise_segmentation/Test/1475.0-annotation.png\n",
      "/home/lorenzo/Documenti/UNIVR/Intcatch_pixelwise_segmentation/Test/3894.0.png  -  /home/lorenzo/Documenti/UNIVR/Intcatch_pixelwise_segmentation/Test/3894.0-annotation.png\n",
      "/home/lorenzo/Documenti/UNIVR/Intcatch_pixelwise_segmentation/Test/885.0.png  -  /home/lorenzo/Documenti/UNIVR/Intcatch_pixelwise_segmentation/Test/885.0-annotation.png\n",
      "/home/lorenzo/Documenti/UNIVR/Intcatch_pixelwise_segmentation/Test/2419.0.png  -  /home/lorenzo/Documenti/UNIVR/Intcatch_pixelwise_segmentation/Test/2419.0-annotation.png\n",
      "/home/lorenzo/Documenti/UNIVR/Intcatch_pixelwise_segmentation/Test/3953.0.png  -  /home/lorenzo/Documenti/UNIVR/Intcatch_pixelwise_segmentation/Test/3953.0-annotation.png\n",
      "/home/lorenzo/Documenti/UNIVR/Intcatch_pixelwise_segmentation/Test/944.0.png  -  /home/lorenzo/Documenti/UNIVR/Intcatch_pixelwise_segmentation/Test/944.0-annotation.png\n",
      "/home/lorenzo/Documenti/UNIVR/Intcatch_pixelwise_segmentation/Test/3304.0.png  -  /home/lorenzo/Documenti/UNIVR/Intcatch_pixelwise_segmentation/Test/3304.0-annotation.png\n",
      "/home/lorenzo/Documenti/UNIVR/Intcatch_pixelwise_segmentation/Test/2714.0.png  -  /home/lorenzo/Documenti/UNIVR/Intcatch_pixelwise_segmentation/Test/2714.0-annotation.png\n",
      "/home/lorenzo/Documenti/UNIVR/Intcatch_pixelwise_segmentation/Test/1947.0.png  -  /home/lorenzo/Documenti/UNIVR/Intcatch_pixelwise_segmentation/Test/1947.0-annotation.png\n",
      "/home/lorenzo/Documenti/UNIVR/Intcatch_pixelwise_segmentation/Test/1003.0.png  -  /home/lorenzo/Documenti/UNIVR/Intcatch_pixelwise_segmentation/Test/1003.0-annotation.png\n",
      "/home/lorenzo/Documenti/UNIVR/Intcatch_pixelwise_segmentation/Test/3481.0.png  -  /home/lorenzo/Documenti/UNIVR/Intcatch_pixelwise_segmentation/Test/3481.0-annotation.png\n",
      "/home/lorenzo/Documenti/UNIVR/Intcatch_pixelwise_segmentation/Test/1121.0.png  -  /home/lorenzo/Documenti/UNIVR/Intcatch_pixelwise_segmentation/Test/1121.0-annotation.png\n",
      "/home/lorenzo/Documenti/UNIVR/Intcatch_pixelwise_segmentation/Test/4130.0.png  -  /home/lorenzo/Documenti/UNIVR/Intcatch_pixelwise_segmentation/Test/4130.0-annotation.png\n",
      "/home/lorenzo/Documenti/UNIVR/Intcatch_pixelwise_segmentation/Test/2537.0.png  -  /home/lorenzo/Documenti/UNIVR/Intcatch_pixelwise_segmentation/Test/2537.0-annotation.png\n",
      "/home/lorenzo/Documenti/UNIVR/Intcatch_pixelwise_segmentation/Test/531.0.png  -  /home/lorenzo/Documenti/UNIVR/Intcatch_pixelwise_segmentation/Test/531.0-annotation.png\n",
      "/home/lorenzo/Documenti/UNIVR/Intcatch_pixelwise_segmentation/Test/5133.0.png  -  /home/lorenzo/Documenti/UNIVR/Intcatch_pixelwise_segmentation/Test/5133.0-annotation.png\n",
      "/home/lorenzo/Documenti/UNIVR/Intcatch_pixelwise_segmentation/Test/1770.0.png  -  /home/lorenzo/Documenti/UNIVR/Intcatch_pixelwise_segmentation/Test/1770.0-annotation.png\n",
      "/home/lorenzo/Documenti/UNIVR/Intcatch_pixelwise_segmentation/Test/4071.0.png  -  /home/lorenzo/Documenti/UNIVR/Intcatch_pixelwise_segmentation/Test/4071.0-annotation.png\n",
      "/home/lorenzo/Documenti/UNIVR/Intcatch_pixelwise_segmentation/Test/472.0.png  -  /home/lorenzo/Documenti/UNIVR/Intcatch_pixelwise_segmentation/Test/472.0-annotation.png\n",
      "/home/lorenzo/Documenti/UNIVR/Intcatch_pixelwise_segmentation/Test/3245.0.png  -  /home/lorenzo/Documenti/UNIVR/Intcatch_pixelwise_segmentation/Test/3245.0-annotation.png\n",
      "/home/lorenzo/Documenti/UNIVR/Intcatch_pixelwise_segmentation/Test/3835.0.png  -  /home/lorenzo/Documenti/UNIVR/Intcatch_pixelwise_segmentation/Test/3835.0-annotation.png\n",
      "/home/lorenzo/Documenti/UNIVR/Intcatch_pixelwise_segmentation/Test/2006.0.png  -  /home/lorenzo/Documenti/UNIVR/Intcatch_pixelwise_segmentation/Test/2006.0-annotation.png\n",
      "/home/lorenzo/Documenti/UNIVR/Intcatch_pixelwise_segmentation/Test/3776.0.png  -  /home/lorenzo/Documenti/UNIVR/Intcatch_pixelwise_segmentation/Test/3776.0-annotation.png\n",
      "/home/lorenzo/Documenti/UNIVR/Intcatch_pixelwise_segmentation/Test/2891.0.png  -  /home/lorenzo/Documenti/UNIVR/Intcatch_pixelwise_segmentation/Test/2891.0-annotation.png\n",
      "/home/lorenzo/Documenti/UNIVR/Intcatch_pixelwise_segmentation/Test/3009.0.png  -  /home/lorenzo/Documenti/UNIVR/Intcatch_pixelwise_segmentation/Test/3009.0-annotation.png\n",
      "/home/lorenzo/Documenti/UNIVR/Intcatch_pixelwise_segmentation/Test/1239.0.png  -  /home/lorenzo/Documenti/UNIVR/Intcatch_pixelwise_segmentation/Test/1239.0-annotation.png\n",
      "/home/lorenzo/Documenti/UNIVR/Intcatch_pixelwise_segmentation/Test/2360.0.png  -  /home/lorenzo/Documenti/UNIVR/Intcatch_pixelwise_segmentation/Test/2360.0-annotation.png\n",
      "/home/lorenzo/Documenti/UNIVR/Intcatch_pixelwise_segmentation/Test/2183.0.png  -  /home/lorenzo/Documenti/UNIVR/Intcatch_pixelwise_segmentation/Test/2183.0-annotation.png\n",
      "/home/lorenzo/Documenti/UNIVR/Intcatch_pixelwise_segmentation/Test/3068.0.png  -  /home/lorenzo/Documenti/UNIVR/Intcatch_pixelwise_segmentation/Test/3068.0-annotation.png\n",
      "/home/lorenzo/Documenti/UNIVR/Intcatch_pixelwise_segmentation/Test/1829.0.png  -  /home/lorenzo/Documenti/UNIVR/Intcatch_pixelwise_segmentation/Test/1829.0-annotation.png\n"
     ]
    },
    {
     "name": "stdout",
     "output_type": "stream",
     "text": [
      "/home/lorenzo/Documenti/UNIVR/Intcatch_pixelwise_segmentation/Test/2950.0.png  -  /home/lorenzo/Documenti/UNIVR/Intcatch_pixelwise_segmentation/Test/2950.0-annotation.png\n",
      "/home/lorenzo/Documenti/UNIVR/Intcatch_pixelwise_segmentation/Test/649.0.png  -  /home/lorenzo/Documenti/UNIVR/Intcatch_pixelwise_segmentation/Test/649.0-annotation.png\n",
      "/home/lorenzo/Documenti/UNIVR/Intcatch_pixelwise_segmentation/Test/767.0.png  -  /home/lorenzo/Documenti/UNIVR/Intcatch_pixelwise_segmentation/Test/767.0-annotation.png\n",
      "/home/lorenzo/Documenti/UNIVR/Intcatch_pixelwise_segmentation/Test/4248.0.png  -  /home/lorenzo/Documenti/UNIVR/Intcatch_pixelwise_segmentation/Test/4248.0-annotation.png\n",
      "/home/lorenzo/Documenti/UNIVR/Intcatch_pixelwise_segmentation/Test/2596.0.png  -  /home/lorenzo/Documenti/UNIVR/Intcatch_pixelwise_segmentation/Test/2596.0-annotation.png\n",
      "/home/lorenzo/Documenti/UNIVR/Intcatch_pixelwise_segmentation/Test/3422.0.png  -  /home/lorenzo/Documenti/UNIVR/Intcatch_pixelwise_segmentation/Test/3422.0-annotation.png\n",
      "/home/lorenzo/Documenti/UNIVR/Intcatch_pixelwise_segmentation/Test/4661.0.png  -  /home/lorenzo/Documenti/UNIVR/Intcatch_pixelwise_segmentation/Test/4661.0-annotation.png\n",
      "/home/lorenzo/Documenti/UNIVR/Intcatch_pixelwise_segmentation/Test/826.0.png  -  /home/lorenzo/Documenti/UNIVR/Intcatch_pixelwise_segmentation/Test/826.0-annotation.png\n",
      "/home/lorenzo/Documenti/UNIVR/Intcatch_pixelwise_segmentation/Test/5015.0.png  -  /home/lorenzo/Documenti/UNIVR/Intcatch_pixelwise_segmentation/Test/5015.0-annotation.png\n",
      "/home/lorenzo/Documenti/UNIVR/Intcatch_pixelwise_segmentation/Test/1534.0.png  -  /home/lorenzo/Documenti/UNIVR/Intcatch_pixelwise_segmentation/Test/1534.0-annotation.png\n",
      "/home/lorenzo/Documenti/UNIVR/Intcatch_pixelwise_segmentation/Test/4307.0.png  -  /home/lorenzo/Documenti/UNIVR/Intcatch_pixelwise_segmentation/Test/4307.0-annotation.png\n",
      "/home/lorenzo/Documenti/UNIVR/Intcatch_pixelwise_segmentation/Test/4602.0.png  -  /home/lorenzo/Documenti/UNIVR/Intcatch_pixelwise_segmentation/Test/4602.0-annotation.png\n",
      "/home/lorenzo/Documenti/UNIVR/Intcatch_pixelwise_segmentation/Test/59.0.png  -  /home/lorenzo/Documenti/UNIVR/Intcatch_pixelwise_segmentation/Test/59.0-annotation.png\n",
      "/home/lorenzo/Documenti/UNIVR/Intcatch_pixelwise_segmentation/Test/2124.0.png  -  /home/lorenzo/Documenti/UNIVR/Intcatch_pixelwise_segmentation/Test/2124.0-annotation.png\n",
      "/home/lorenzo/Documenti/UNIVR/Intcatch_pixelwise_segmentation/Test/1652.0.png  -  /home/lorenzo/Documenti/UNIVR/Intcatch_pixelwise_segmentation/Test/1652.0-annotation.png\n",
      "/home/lorenzo/Documenti/UNIVR/Intcatch_pixelwise_segmentation/Test/1298.0.png  -  /home/lorenzo/Documenti/UNIVR/Intcatch_pixelwise_segmentation/Test/1298.0-annotation.png\n",
      "/home/lorenzo/Documenti/UNIVR/Intcatch_pixelwise_segmentation/Test/2832.0.png  -  /home/lorenzo/Documenti/UNIVR/Intcatch_pixelwise_segmentation/Test/2832.0-annotation.png\n",
      "/home/lorenzo/Documenti/UNIVR/Intcatch_pixelwise_segmentation/Test/295.0.png  -  /home/lorenzo/Documenti/UNIVR/Intcatch_pixelwise_segmentation/Test/295.0-annotation.png\n",
      "/home/lorenzo/Documenti/UNIVR/Intcatch_pixelwise_segmentation/Test/3717.0.png  -  /home/lorenzo/Documenti/UNIVR/Intcatch_pixelwise_segmentation/Test/3717.0-annotation.png\n",
      "/home/lorenzo/Documenti/UNIVR/Intcatch_pixelwise_segmentation/Test/3186.0.png  -  /home/lorenzo/Documenti/UNIVR/Intcatch_pixelwise_segmentation/Test/3186.0-annotation.png\n",
      "/home/lorenzo/Documenti/UNIVR/Intcatch_pixelwise_segmentation/Test/3127.0.png  -  /home/lorenzo/Documenti/UNIVR/Intcatch_pixelwise_segmentation/Test/3127.0-annotation.png\n",
      "/home/lorenzo/Documenti/UNIVR/Intcatch_pixelwise_segmentation/Test/2242.0.png  -  /home/lorenzo/Documenti/UNIVR/Intcatch_pixelwise_segmentation/Test/2242.0-annotation.png\n",
      "/home/lorenzo/Documenti/UNIVR/Intcatch_pixelwise_segmentation/Test/3658.0.png  -  /home/lorenzo/Documenti/UNIVR/Intcatch_pixelwise_segmentation/Test/3658.0-annotation.png\n",
      "/home/lorenzo/Documenti/UNIVR/Intcatch_pixelwise_segmentation/Test/4484.0.png  -  /home/lorenzo/Documenti/UNIVR/Intcatch_pixelwise_segmentation/Test/4484.0-annotation.png\n",
      "/home/lorenzo/Documenti/UNIVR/Intcatch_pixelwise_segmentation/Test/3599.0.png  -  /home/lorenzo/Documenti/UNIVR/Intcatch_pixelwise_segmentation/Test/3599.0-annotation.png\n",
      "/home/lorenzo/Documenti/UNIVR/Intcatch_pixelwise_segmentation/Test/4779.0.png  -  /home/lorenzo/Documenti/UNIVR/Intcatch_pixelwise_segmentation/Test/4779.0-annotation.png\n",
      "/home/lorenzo/Documenti/UNIVR/Intcatch_pixelwise_segmentation/Test/354.0.png  -  /home/lorenzo/Documenti/UNIVR/Intcatch_pixelwise_segmentation/Test/354.0-annotation.png\n",
      "/home/lorenzo/Documenti/UNIVR/Intcatch_pixelwise_segmentation/Test/1888.0.png  -  /home/lorenzo/Documenti/UNIVR/Intcatch_pixelwise_segmentation/Test/1888.0-annotation.png\n",
      "/home/lorenzo/Documenti/UNIVR/Intcatch_pixelwise_segmentation/Test/3540.0.png  -  /home/lorenzo/Documenti/UNIVR/Intcatch_pixelwise_segmentation/Test/3540.0-annotation.png\n",
      "/home/lorenzo/Documenti/UNIVR/Intcatch_pixelwise_segmentation/Test/1357.0.png  -  /home/lorenzo/Documenti/UNIVR/Intcatch_pixelwise_segmentation/Test/1357.0-annotation.png\n",
      "/home/lorenzo/Documenti/UNIVR/Intcatch_pixelwise_segmentation/Test/4012.0.png  -  /home/lorenzo/Documenti/UNIVR/Intcatch_pixelwise_segmentation/Test/4012.0-annotation.png\n",
      "/home/lorenzo/Documenti/UNIVR/Intcatch_pixelwise_segmentation/Test/118.0.png  -  /home/lorenzo/Documenti/UNIVR/Intcatch_pixelwise_segmentation/Test/118.0-annotation.png\n",
      "/home/lorenzo/Documenti/UNIVR/Intcatch_pixelwise_segmentation/Test/4897.0.png  -  /home/lorenzo/Documenti/UNIVR/Intcatch_pixelwise_segmentation/Test/4897.0-annotation.png\n",
      "/home/lorenzo/Documenti/UNIVR/Intcatch_pixelwise_segmentation/Test/1062.0.png  -  /home/lorenzo/Documenti/UNIVR/Intcatch_pixelwise_segmentation/Test/1062.0-annotation.png\n",
      "/home/lorenzo/Documenti/UNIVR/Intcatch_pixelwise_segmentation/Test/2773.0.png  -  /home/lorenzo/Documenti/UNIVR/Intcatch_pixelwise_segmentation/Test/2773.0-annotation.png\n",
      "/home/lorenzo/Documenti/UNIVR/Intcatch_pixelwise_segmentation/Test/236.0.png  -  /home/lorenzo/Documenti/UNIVR/Intcatch_pixelwise_segmentation/Test/236.0-annotation.png\n",
      "/home/lorenzo/Documenti/UNIVR/Intcatch_pixelwise_segmentation/Test/1593.0.png  -  /home/lorenzo/Documenti/UNIVR/Intcatch_pixelwise_segmentation/Test/1593.0-annotation.png\n",
      "/home/lorenzo/Documenti/UNIVR/Intcatch_pixelwise_segmentation/Test/4838.0.png  -  /home/lorenzo/Documenti/UNIVR/Intcatch_pixelwise_segmentation/Test/4838.0-annotation.png\n",
      "/home/lorenzo/Documenti/UNIVR/Intcatch_pixelwise_segmentation/Test/1416.0.png  -  /home/lorenzo/Documenti/UNIVR/Intcatch_pixelwise_segmentation/Test/1416.0-annotation.png\n",
      "/home/lorenzo/Documenti/UNIVR/Intcatch_pixelwise_segmentation/Test/Frame(1).png  -  /home/lorenzo/Documenti/UNIVR/Intcatch_pixelwise_segmentation/Test/Frame(1)-annotation.png\n",
      "/home/lorenzo/Documenti/UNIVR/Intcatch_pixelwise_segmentation/Test/Frame(11).png  -  /home/lorenzo/Documenti/UNIVR/Intcatch_pixelwise_segmentation/Test/Frame(11)-annotation.png\n",
      "/home/lorenzo/Documenti/UNIVR/Intcatch_pixelwise_segmentation/Test/Frame(21).png  -  /home/lorenzo/Documenti/UNIVR/Intcatch_pixelwise_segmentation/Test/Frame(21)-annotation.png\n",
      "/home/lorenzo/Documenti/UNIVR/Intcatch_pixelwise_segmentation/Test/Frame(31).png  -  /home/lorenzo/Documenti/UNIVR/Intcatch_pixelwise_segmentation/Test/Frame(31)-annotation.png\n",
      "/home/lorenzo/Documenti/UNIVR/Intcatch_pixelwise_segmentation/Test/Frame(41).png  -  /home/lorenzo/Documenti/UNIVR/Intcatch_pixelwise_segmentation/Test/Frame(41)-annotation.png\n",
      "/home/lorenzo/Documenti/UNIVR/Intcatch_pixelwise_segmentation/Test/Frame(51).png  -  /home/lorenzo/Documenti/UNIVR/Intcatch_pixelwise_segmentation/Test/Frame(51)-annotation.png\n",
      "/home/lorenzo/Documenti/UNIVR/Intcatch_pixelwise_segmentation/Test/Frame(61).png  -  /home/lorenzo/Documenti/UNIVR/Intcatch_pixelwise_segmentation/Test/Frame(61)-annotation.png\n",
      "/home/lorenzo/Documenti/UNIVR/Intcatch_pixelwise_segmentation/Test/Frame(71).png  -  /home/lorenzo/Documenti/UNIVR/Intcatch_pixelwise_segmentation/Test/Frame(71)-annotation.png\n",
      "/home/lorenzo/Documenti/UNIVR/Intcatch_pixelwise_segmentation/Test/Frame(81).png  -  /home/lorenzo/Documenti/UNIVR/Intcatch_pixelwise_segmentation/Test/Frame(81)-annotation.png\n",
      "/home/lorenzo/Documenti/UNIVR/Intcatch_pixelwise_segmentation/Test/Frame(91).png  -  /home/lorenzo/Documenti/UNIVR/Intcatch_pixelwise_segmentation/Test/Frame(91)-annotation.png\n"
     ]
    },
    {
     "name": "stdout",
     "output_type": "stream",
     "text": [
      "/home/lorenzo/Documenti/UNIVR/Intcatch_pixelwise_segmentation/Test/Frame(101).png  -  /home/lorenzo/Documenti/UNIVR/Intcatch_pixelwise_segmentation/Test/Frame(101)-annotation.png\n",
      "/home/lorenzo/Documenti/UNIVR/Intcatch_pixelwise_segmentation/Test/Frame(111).png  -  /home/lorenzo/Documenti/UNIVR/Intcatch_pixelwise_segmentation/Test/Frame(111)-annotation.png\n",
      "/home/lorenzo/Documenti/UNIVR/Intcatch_pixelwise_segmentation/Test/Frame(121).png  -  /home/lorenzo/Documenti/UNIVR/Intcatch_pixelwise_segmentation/Test/Frame(121)-annotation.png\n",
      "/home/lorenzo/Documenti/UNIVR/Intcatch_pixelwise_segmentation/Test/Frame(131).png  -  /home/lorenzo/Documenti/UNIVR/Intcatch_pixelwise_segmentation/Test/Frame(131)-annotation.png\n",
      "/home/lorenzo/Documenti/UNIVR/Intcatch_pixelwise_segmentation/Test/Frame(141).png  -  /home/lorenzo/Documenti/UNIVR/Intcatch_pixelwise_segmentation/Test/Frame(141)-annotation.png\n"
     ]
    }
   ],
   "source": [
    "from dataset import Dataset\n",
    "path = 'Test/'\n",
    "img_w = 1280\n",
    "img_h = 720\n",
    "n_labels = 2 #6\n",
    "dataset = Dataset(path, img_w, img_h, n_labels)\n",
    "x, y = dataset.createDataset(augmentation=False, prob1=False)"
   ]
  },
  {
   "cell_type": "code",
   "execution_count": null,
   "metadata": {
    "scrolled": false
   },
   "outputs": [],
   "source": [
    "model_class = Models()\n",
    "path_models='./models_saved/Final_2/'\n",
    "model_path_name= ['unet160--small--dice_coef_loss',\n",
    "                  'unet160--smallBN--dice_coef_loss',\n",
    "                  'unet160--medium--dice_coef_loss',\n",
    "                  'unet160--mediumBN--dice_coef_loss',\n",
    "                  'unet160--mediumBN_mobilenetv1--dice_coef_loss',\n",
    "                  ]\n",
    "\n",
    "for models_name in model_path_name:\n",
    "    model1=model_class.load_model(path_models+models_name)\n",
    "    recall_list, precision_list, specificity_list, accuracy_list, f1score_list = Utils.accuracy_on_images(x, y, model1, 160, 160, 1, False)\n",
    "    print('*' * 30)\n",
    "    print(models_name)\n",
    "    print('N PARAMETERS =', model1.count_params())\n",
    "    print(\"RECALL =\", sum(recall_list) / float(len(recall_list)))\n",
    "    print(\"PRECISION =\", sum(precision_list) / float(len(precision_list)))\n",
    "    print(\"SPECIFICITY =\", sum(specificity_list) / float(len(specificity_list)))\n",
    "    print(\"ACCURACY =\", sum(accuracy_list) / float(len(accuracy_list)))\n",
    "    print(\"F1SCORE =\", sum(f1score_list) / float(len(f1score_list)))\n",
    "    print('*' * 30)\n",
    "    \n",
    "    K.clear_session()"
   ]
  },
  {
   "cell_type": "code",
   "execution_count": 4,
   "metadata": {},
   "outputs": [
    {
     "ename": "NameError",
     "evalue": "name 'x' is not defined",
     "output_type": "error",
     "traceback": [
      "\u001b[0;31m---------------------------------------------------------------------------\u001b[0m",
      "\u001b[0;31mNameError\u001b[0m                                 Traceback (most recent call last)",
      "\u001b[0;32m<ipython-input-4-719b55766bdf>\u001b[0m in \u001b[0;36m<module>\u001b[0;34m()\u001b[0m\n\u001b[1;32m     10\u001b[0m \u001b[0;32mfor\u001b[0m \u001b[0mmodels_name\u001b[0m \u001b[0;32min\u001b[0m \u001b[0mmodel_path_name\u001b[0m\u001b[0;34m:\u001b[0m\u001b[0;34m\u001b[0m\u001b[0m\n\u001b[1;32m     11\u001b[0m     \u001b[0mmodel1\u001b[0m\u001b[0;34m=\u001b[0m\u001b[0mmodel_class\u001b[0m\u001b[0;34m.\u001b[0m\u001b[0mload_model\u001b[0m\u001b[0;34m(\u001b[0m\u001b[0mpath_models\u001b[0m\u001b[0;34m+\u001b[0m\u001b[0mmodels_name\u001b[0m\u001b[0;34m)\u001b[0m\u001b[0;34m\u001b[0m\u001b[0m\n\u001b[0;32m---> 12\u001b[0;31m     \u001b[0mrecall_list\u001b[0m\u001b[0;34m,\u001b[0m \u001b[0mprecision_list\u001b[0m\u001b[0;34m,\u001b[0m \u001b[0mspecificity_list\u001b[0m\u001b[0;34m,\u001b[0m \u001b[0maccuracy_list\u001b[0m\u001b[0;34m,\u001b[0m \u001b[0mf1score_list\u001b[0m \u001b[0;34m=\u001b[0m \u001b[0mUtils\u001b[0m\u001b[0;34m.\u001b[0m\u001b[0maccuracy_on_line_of_horizont_area\u001b[0m\u001b[0;34m(\u001b[0m\u001b[0mx\u001b[0m\u001b[0;34m,\u001b[0m \u001b[0my\u001b[0m\u001b[0;34m,\u001b[0m \u001b[0mmodel1\u001b[0m\u001b[0;34m,\u001b[0m \u001b[0;36m160\u001b[0m\u001b[0;34m,\u001b[0m \u001b[0;36m160\u001b[0m\u001b[0;34m,\u001b[0m \u001b[0;36m1\u001b[0m\u001b[0;34m,\u001b[0m \u001b[0;32mFalse\u001b[0m\u001b[0;34m)\u001b[0m\u001b[0;34m\u001b[0m\u001b[0m\n\u001b[0m\u001b[1;32m     13\u001b[0m     \u001b[0mprint\u001b[0m\u001b[0;34m(\u001b[0m\u001b[0;34m'*'\u001b[0m \u001b[0;34m*\u001b[0m \u001b[0;36m30\u001b[0m\u001b[0;34m)\u001b[0m\u001b[0;34m\u001b[0m\u001b[0m\n\u001b[1;32m     14\u001b[0m     \u001b[0mprint\u001b[0m\u001b[0;34m(\u001b[0m\u001b[0mmodels_name\u001b[0m\u001b[0;34m)\u001b[0m\u001b[0;34m\u001b[0m\u001b[0m\n",
      "\u001b[0;31mNameError\u001b[0m: name 'x' is not defined"
     ]
    }
   ],
   "source": [
    "model_class = Models()\n",
    "path_models='./models_saved/Final_2/'\n",
    "model_path_name= ['unet160--small--dice_coef_loss',\n",
    "                  'unet160--smallBN--dice_coef_loss',\n",
    "                  'unet160--medium--dice_coef_loss',\n",
    "                  'unet160--mediumBN--dice_coef_loss',\n",
    "                  'unet160--mediumBN_mobilenetv1--dice_coef_loss',\n",
    "                  ]\n",
    "\n",
    "for models_name in model_path_name:\n",
    "    model1=model_class.load_model(path_models+models_name)\n",
    "    recall_list, precision_list, specificity_list, accuracy_list, f1score_list = Utils.accuracy_on_line_of_horizont_area(x, y, model1, 160, 160, 1, True)\n",
    "    print('*' * 30)\n",
    "    print(models_name)\n",
    "    print('N PARAMETERS =', model1.count_params())\n",
    "    print(\"PRECISION =\", sum(precision_list) / float(len(precision_list)))\n",
    "    print(\"RECALL =\", sum(recall_list) / float(len(recall_list)))\n",
    "    #print(\"SPECIFICITY =\", sum(specificity_list) / float(len(specificity_list)))\n",
    "    print(\"ACCURACY =\", sum(accuracy_list) / float(len(accuracy_list)))\n",
    "    print(\"F1SCORE =\", sum(f1score_list) / float(len(f1score_list)))\n",
    "    print('*' * 30)\n",
    "\n",
    "    K.clear_session()"
   ]
  },
  {
   "cell_type": "code",
   "execution_count": null,
   "metadata": {},
   "outputs": [],
   "source": [
    "model_class = Models()\n",
    "path_models='./models_saved/Final_2/'\n",
    "model_path_name= ['unet160--small--dice_coef_loss',\n",
    "                  'unet160--smallBN--dice_coef_loss',\n",
    "                  'unet160--medium--dice_coef_loss',\n",
    "                  'unet160--mediumBN--dice_coef_loss',\n",
    "                  'unet160--mediumBN_mobilenetv1--dice_coef_loss',\n",
    "                  ]\n",
    "\n",
    "max_distances_array = []\n",
    "names_array = []\n",
    "\n",
    "for models_name in model_path_name:\n",
    "    model1=model_class.load_model(path_models+models_name)\n",
    "    avg_distance, max_distance = Utils.median_accuracy_line_of_horizont(x, y, model1, 160, 160, 1, False)\n",
    "    print('*' * 30)\n",
    "    print(\"-- \", models_name, \" --\")\n",
    "    print(\"Mean Max error :\", np.mean(max_distance))\n",
    "    print(\"Median Max error :\", np.median(max_distance))\n",
    "    print(\"Standard Deviation :\", np.std(max_distance))\n",
    "    print(\"Quantile 0.25-0.75:\", np.quantile(max_distance, 0.25), \" - \", np.quantile(max_distance, 0.75))\n",
    "    print(\"Average error :\", np.mean(avg_distance))\n",
    "    print(\"Max error :\", np.max(max_distance))\n",
    "    print('*' * 30)\n",
    "    \n",
    "    names_array.append(models_name)\n",
    "    max_distances_array.append(max_distance)\n",
    "    \n",
    "    K.clear_session()"
   ]
  },
  {
   "cell_type": "code",
   "execution_count": null,
   "metadata": {},
   "outputs": [],
   "source": [
    "names_array = [\"Half-Conv 160x160\", \"Half-Conv BN 160x160\", \"Full 160x160\", \"Full BN 160x160\", \"Full mobile-net-v1-layer 160x160\"]"
   ]
  },
  {
   "cell_type": "code",
   "execution_count": null,
   "metadata": {},
   "outputs": [],
   "source": [
    "fig1, (ax1, ax2) = plt.subplots(1, 2, sharey=True, gridspec_kw={'width_ratios': [10, 10]})\n",
    "\n",
    "ax1.boxplot(max_distances_array, vert=False, labels=names_array)\n",
    "ax1.set_xlim(0,30)\n",
    "\n",
    "ax2.boxplot(max_distances_array, vert=False, labels=names_array)\n",
    "ax2.set_xlim(60,100)\n",
    "\n",
    "ax1.spines['right'].set_visible(False)\n",
    "ax2.spines['left'].set_visible(False)\n",
    "ax1.yaxis.tick_left()\n",
    "ax1.tick_params(labelright='off')\n",
    "ax2.yaxis.tick_right()\n",
    "ax2.tick_params(labelright='off')\n",
    "\n",
    "d = .015 # how big to make the diagonal lines in axes coordinates\n",
    "# arguments to pass plot, just so we don't keep repeating them\n",
    "kwargs = dict(transform=ax1.transAxes, color='k', clip_on=False)\n",
    "ax1.plot((1-d,1+d), (-d,+d), **kwargs)\n",
    "ax1.plot((1-d,1+d),(1-d,1+d), **kwargs)\n",
    "\n",
    "kwargs.update(transform=ax2.transAxes)  # switch to the bottom axes\n",
    "ax2.plot((-d,+d), (1-d,1+d), **kwargs)\n",
    "ax2.plot((-d,+d), (-d,+d), **kwargs)\n",
    "\n",
    "fig1.subplots_adjust(top=0.9)"
   ]
  },
  {
   "cell_type": "code",
   "execution_count": null,
   "metadata": {},
   "outputs": [],
   "source": [
    "import matplotlib.pyplot as plt\n",
    "fig2, ax2 = plt.boxplot(max_distances_array, vert=False, labels=names_array)"
   ]
  },
  {
   "cell_type": "code",
   "execution_count": null,
   "metadata": {},
   "outputs": [],
   "source": [
    "!cd models_saved/history/"
   ]
  },
  {
   "cell_type": "code",
   "execution_count": null,
   "metadata": {},
   "outputs": [],
   "source": [
    "import pickle\n",
    "import os\n",
    "import matplotlib.pyplot as plt\n",
    "history_path=['models_saved/history/unet160--history--largeBN--binary_crossentropy',\n",
    "              'models_saved/history/unet160--history--largeBN--mae', \n",
    "              'models_saved/history/unet160--history--largeBN--mse',\n",
    "              'models_saved/history/unet160--history--largeBN--dice_coef_loss', ]\n",
    "\n",
    "historyes = []\n",
    "for path in history_path:\n",
    "    with (open(path+\"\", \"rb\")) as openfile:\n",
    "        while True:\n",
    "            try:\n",
    "                historyes.append(pickle.load(openfile))\n",
    "            except EOFError:\n",
    "                break"
   ]
  },
  {
   "cell_type": "code",
   "execution_count": null,
   "metadata": {},
   "outputs": [],
   "source": [
    "# list all data in history\n",
    "print(historyes[0].keys())\n",
    "# summarize history for loss\n",
    "for history in historyes:\n",
    "    plt.plot(history['val_dice_coef'])\n",
    "plt.title('model accuracy')\n",
    "plt.ylabel('Dice/F1 metric')\n",
    "plt.xlabel('epoch')\n",
    "plt.legend(['binary_crossentropy_loss',\n",
    "            'mean_absolute_error_loss',\n",
    "            'mean_squared_error_loss',\n",
    "            'dice_coef_loss'], loc='lower right')\n",
    "plt.axis([0,200,0.9,1])\n",
    "plt.show()"
   ]
  }
 ],
 "metadata": {
  "kernelspec": {
   "display_name": "Python 3",
   "language": "python",
   "name": "python3"
  },
  "language_info": {
   "codemirror_mode": {
    "name": "ipython",
    "version": 3
   },
   "file_extension": ".py",
   "mimetype": "text/x-python",
   "name": "python",
   "nbconvert_exporter": "python",
   "pygments_lexer": "ipython3",
   "version": "3.5.2"
  }
 },
 "nbformat": 4,
 "nbformat_minor": 2
}
